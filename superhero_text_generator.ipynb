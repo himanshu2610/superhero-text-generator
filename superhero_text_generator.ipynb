{
  "nbformat": 4,
  "nbformat_minor": 0,
  "metadata": {
    "colab": {
      "provenance": []
    },
    "kernelspec": {
      "name": "python3",
      "display_name": "Python 3"
    },
    "language_info": {
      "name": "python"
    },
    "accelerator": "GPU",
    "gpuClass": "standard"
  },
  "cells": [
    {
      "cell_type": "code",
      "execution_count": 1,
      "metadata": {
        "colab": {
          "base_uri": "https://localhost:8080/"
        },
        "id": "W6rcB07-0fyN",
        "outputId": "e79cba0c-b3bd-419e-e59a-02240da98e07"
      },
      "outputs": [
        {
          "output_type": "stream",
          "name": "stdout",
          "text": [
            "Cloning into 'superhero'...\n",
            "remote: Enumerating objects: 8, done.\u001b[K\n",
            "remote: Counting objects: 100% (8/8), done.\u001b[K\n",
            "remote: Compressing objects: 100% (7/7), done.\u001b[K\n",
            "remote: Total 8 (delta 0), reused 4 (delta 0), pack-reused 0\u001b[K\n",
            "Unpacking objects: 100% (8/8), 47.06 KiB | 5.23 MiB/s, done.\n"
          ]
        }
      ],
      "source": [
        "!git clone https://github.com/am1tyadav/superhero"
      ]
    },
    {
      "cell_type": "code",
      "source": [
        "with open('superhero/superheroes.txt', 'r') as f:\n",
        "  data = f.read()\n",
        "data[:100]"
      ],
      "metadata": {
        "colab": {
          "base_uri": "https://localhost:8080/",
          "height": 36
        },
        "id": "9SGmwZry7fVM",
        "outputId": "348d7303-2518-4b97-f651-9e03f0cb2797"
      },
      "execution_count": 2,
      "outputs": [
        {
          "output_type": "execute_result",
          "data": {
            "text/plain": [
              "'jumpa\\t\\ndoctor fate\\t\\nstarlight\\t\\nisildur\\t\\nlasher\\t\\nvarvara\\t\\nthe target\\t\\naxel\\t\\nbattra\\t\\nchangeling\\t\\npyrrh'"
            ],
            "application/vnd.google.colaboratory.intrinsic+json": {
              "type": "string"
            }
          },
          "metadata": {},
          "execution_count": 2
        }
      ]
    },
    {
      "cell_type": "code",
      "source": [
        "import tensorflow as tf"
      ],
      "metadata": {
        "id": "wELbPbAV8CBN"
      },
      "execution_count": 3,
      "outputs": []
    },
    {
      "cell_type": "code",
      "source": [
        "tokenizer = tf.keras.preprocessing.text.Tokenizer(\n",
        "    filters= '!\"#$%&()*+-/,:;<=>?@[\\\\]^_{\\}',\n",
        "    split ='\\n'\n",
        ")"
      ],
      "metadata": {
        "id": "kTgttwyd8FuS"
      },
      "execution_count": 4,
      "outputs": []
    },
    {
      "cell_type": "code",
      "source": [
        "tokenizer.fit_on_texts(data)"
      ],
      "metadata": {
        "id": "Ezplb73d9l0t"
      },
      "execution_count": 5,
      "outputs": []
    },
    {
      "cell_type": "code",
      "source": [
        "char_to_index.keys()"
      ],
      "metadata": {
        "colab": {
          "base_uri": "https://localhost:8080/",
          "height": 165
        },
        "id": "teTrA1Nk9bnb",
        "outputId": "0094b998-4141-4e3b-b1b2-a3379ab9c59f"
      },
      "execution_count": 6,
      "outputs": [
        {
          "output_type": "error",
          "ename": "NameError",
          "evalue": "ignored",
          "traceback": [
            "\u001b[0;31m---------------------------------------------------------------------------\u001b[0m",
            "\u001b[0;31mNameError\u001b[0m                                 Traceback (most recent call last)",
            "\u001b[0;32m<ipython-input-6-c7d6d95c24d8>\u001b[0m in \u001b[0;36m<module>\u001b[0;34m\u001b[0m\n\u001b[0;32m----> 1\u001b[0;31m \u001b[0mchar_to_index\u001b[0m\u001b[0;34m.\u001b[0m\u001b[0mkeys\u001b[0m\u001b[0;34m(\u001b[0m\u001b[0;34m)\u001b[0m\u001b[0;34m\u001b[0m\u001b[0;34m\u001b[0m\u001b[0m\n\u001b[0m",
            "\u001b[0;31mNameError\u001b[0m: name 'char_to_index' is not defined"
          ]
        }
      ]
    },
    {
      "cell_type": "code",
      "source": [
        "char_to_index = tokenizer.word_index\n",
        "index_to_char = dict((v,k) for k, v in char_to_index.items())\n",
        "print(index_to_char)"
      ],
      "metadata": {
        "colab": {
          "base_uri": "https://localhost:8080/"
        },
        "id": "ZmUbSv-v9r_9",
        "outputId": "0ab11082-2a33-407d-e5c4-5e16b398da68"
      },
      "execution_count": 7,
      "outputs": [
        {
          "output_type": "stream",
          "name": "stdout",
          "text": [
            "{1: '\\t', 2: 'a', 3: 'e', 4: 'r', 5: 'o', 6: 'n', 7: 'i', 8: ' ', 9: 't', 10: 's', 11: 'l', 12: 'm', 13: 'h', 14: 'd', 15: 'c', 16: 'u', 17: 'g', 18: 'k', 19: 'b', 20: 'p', 21: 'y', 22: 'w', 23: 'f', 24: 'v', 25: 'j', 26: 'z', 27: 'x', 28: 'q'}\n"
          ]
        }
      ]
    },
    {
      "cell_type": "code",
      "source": [
        "names[1]"
      ],
      "metadata": {
        "colab": {
          "base_uri": "https://localhost:8080/",
          "height": 165
        },
        "id": "af7Yb0Me8u1n",
        "outputId": "267e58cf-436e-4592-a434-107d6bb3edb4"
      },
      "execution_count": 9,
      "outputs": [
        {
          "output_type": "error",
          "ename": "NameError",
          "evalue": "ignored",
          "traceback": [
            "\u001b[0;31m---------------------------------------------------------------------------\u001b[0m",
            "\u001b[0;31mNameError\u001b[0m                                 Traceback (most recent call last)",
            "\u001b[0;32m<ipython-input-9-d8a74d47c66b>\u001b[0m in \u001b[0;36m<module>\u001b[0;34m\u001b[0m\n\u001b[0;32m----> 1\u001b[0;31m \u001b[0mnames\u001b[0m\u001b[0;34m[\u001b[0m\u001b[0;36m1\u001b[0m\u001b[0;34m]\u001b[0m\u001b[0;34m\u001b[0m\u001b[0;34m\u001b[0m\u001b[0m\n\u001b[0m",
            "\u001b[0;31mNameError\u001b[0m: name 'names' is not defined"
          ]
        }
      ]
    },
    {
      "cell_type": "code",
      "source": [
        "names = data.splitlines()\n",
        "names[:9]"
      ],
      "metadata": {
        "colab": {
          "base_uri": "https://localhost:8080/"
        },
        "id": "ItFwXuBI-YZ_",
        "outputId": "579997be-163e-4a16-ae9e-f4a6752c46de"
      },
      "execution_count": 10,
      "outputs": [
        {
          "output_type": "execute_result",
          "data": {
            "text/plain": [
              "['jumpa\\t',\n",
              " 'doctor fate\\t',\n",
              " 'starlight\\t',\n",
              " 'isildur\\t',\n",
              " 'lasher\\t',\n",
              " 'varvara\\t',\n",
              " 'the target\\t',\n",
              " 'axel\\t',\n",
              " 'battra\\t']"
            ]
          },
          "metadata": {},
          "execution_count": 10
        }
      ]
    },
    {
      "cell_type": "code",
      "source": [
        "tokenizer.texts_to_sequences(names[0])"
      ],
      "metadata": {
        "colab": {
          "base_uri": "https://localhost:8080/"
        },
        "id": "e1iiLUAmCrrB",
        "outputId": "4a803147-4b76-442c-a20c-2736976a8541"
      },
      "execution_count": 11,
      "outputs": [
        {
          "output_type": "execute_result",
          "data": {
            "text/plain": [
              "[[25], [16], [12], [20], [2], [1]]"
            ]
          },
          "metadata": {},
          "execution_count": 11
        }
      ]
    },
    {
      "cell_type": "code",
      "source": [
        "def name_to_seq(name) :\n",
        "  return [tokenizer.texts_to_sequences(c)[0][0] for c in name]"
      ],
      "metadata": {
        "id": "mUdQE6LMDVM8"
      },
      "execution_count": 12,
      "outputs": []
    },
    {
      "cell_type": "code",
      "source": [
        "name_to_seq('a')"
      ],
      "metadata": {
        "colab": {
          "base_uri": "https://localhost:8080/"
        },
        "id": "NZYDyN2RDt0M",
        "outputId": "f2887e63-829a-4817-90c9-6db0864f5df4"
      },
      "execution_count": 28,
      "outputs": [
        {
          "output_type": "execute_result",
          "data": {
            "text/plain": [
              "[2]"
            ]
          },
          "metadata": {},
          "execution_count": 28
        }
      ]
    },
    {
      "cell_type": "code",
      "source": [
        "def seq_to_name(seq) :\n",
        "  return ''.join([index_to_char[i] for i in seq if i!=0])"
      ],
      "metadata": {
        "id": "35_ogOWJEDd7"
      },
      "execution_count": 14,
      "outputs": []
    },
    {
      "cell_type": "code",
      "source": [
        "seq_to_name(name_to_seq(names[0]))"
      ],
      "metadata": {
        "colab": {
          "base_uri": "https://localhost:8080/",
          "height": 36
        },
        "id": "OYIXamOMEj2o",
        "outputId": "6462e36a-6cbb-4aac-84e8-969eae695d54"
      },
      "execution_count": 15,
      "outputs": [
        {
          "output_type": "execute_result",
          "data": {
            "text/plain": [
              "'jumpa\\t'"
            ],
            "application/vnd.google.colaboratory.intrinsic+json": {
              "type": "string"
            }
          },
          "metadata": {},
          "execution_count": 15
        }
      ]
    },
    {
      "cell_type": "markdown",
      "source": [
        "creating and padding sequences"
      ],
      "metadata": {
        "id": "86P_Eq-GJcuX"
      }
    },
    {
      "cell_type": "code",
      "source": [
        "sequences = []\n",
        "for name in names: \n",
        "  seq = name_to_seq(name)\n",
        "  if len(seq)>=2:\n",
        "    sequences+= [seq[:i] for i in range(2, len(seq)+1)]"
      ],
      "metadata": {
        "id": "VkPr0a0_JgN2"
      },
      "execution_count": 16,
      "outputs": []
    },
    {
      "cell_type": "code",
      "source": [
        "sequences[:10]"
      ],
      "metadata": {
        "colab": {
          "base_uri": "https://localhost:8080/"
        },
        "id": "yZ0Lye2eKP8_",
        "outputId": "6b3d36dc-cb72-4ebe-a1d6-2abdef55e7c7"
      },
      "execution_count": 17,
      "outputs": [
        {
          "output_type": "execute_result",
          "data": {
            "text/plain": [
              "[[25, 16],\n",
              " [25, 16, 12],\n",
              " [25, 16, 12, 20],\n",
              " [25, 16, 12, 20, 2],\n",
              " [25, 16, 12, 20, 2, 1],\n",
              " [14, 5],\n",
              " [14, 5, 15],\n",
              " [14, 5, 15, 9],\n",
              " [14, 5, 15, 9, 5],\n",
              " [14, 5, 15, 9, 5, 4]]"
            ]
          },
          "metadata": {},
          "execution_count": 17
        }
      ]
    },
    {
      "cell_type": "code",
      "source": [
        "max_len = max([len(x) for x in sequences])\n",
        "max_len"
      ],
      "metadata": {
        "colab": {
          "base_uri": "https://localhost:8080/"
        },
        "id": "O0Rkqds7KTt_",
        "outputId": "aff68b97-8120-4435-e07b-d9cc561c73e7"
      },
      "execution_count": 18,
      "outputs": [
        {
          "output_type": "execute_result",
          "data": {
            "text/plain": [
              "33"
            ]
          },
          "metadata": {},
          "execution_count": 18
        }
      ]
    },
    {
      "cell_type": "code",
      "source": [
        "padded_sequences = tf.keras.preprocessing.sequence.pad_sequences(\n",
        "    sequences, padding = 'pre',\n",
        "    maxlen = max_len\n",
        ")\n",
        "padded_sequences[0]"
      ],
      "metadata": {
        "colab": {
          "base_uri": "https://localhost:8080/"
        },
        "id": "mjwHVvP0LcHN",
        "outputId": "a0d66a48-e46b-4f1c-cfd9-aaaa51882cf6"
      },
      "execution_count": 19,
      "outputs": [
        {
          "output_type": "execute_result",
          "data": {
            "text/plain": [
              "array([ 0,  0,  0,  0,  0,  0,  0,  0,  0,  0,  0,  0,  0,  0,  0,  0,  0,\n",
              "        0,  0,  0,  0,  0,  0,  0,  0,  0,  0,  0,  0,  0,  0, 25, 16],\n",
              "      dtype=int32)"
            ]
          },
          "metadata": {},
          "execution_count": 19
        }
      ]
    },
    {
      "cell_type": "code",
      "source": [
        "padded_sequences.shape"
      ],
      "metadata": {
        "colab": {
          "base_uri": "https://localhost:8080/"
        },
        "id": "nf8NGa-TL1qr",
        "outputId": "8b114f50-7d01-4754-c4c6-9a0d14c2c637"
      },
      "execution_count": 20,
      "outputs": [
        {
          "output_type": "execute_result",
          "data": {
            "text/plain": [
              "(88279, 33)"
            ]
          },
          "metadata": {},
          "execution_count": 20
        }
      ]
    },
    {
      "cell_type": "code",
      "source": [
        "x, y = padded_sequences[:, :-1], padded_sequences[:, -1]"
      ],
      "metadata": {
        "id": "Jao4W5AlMHAn"
      },
      "execution_count": 21,
      "outputs": []
    },
    {
      "cell_type": "code",
      "source": [
        "x.shape,y.shape"
      ],
      "metadata": {
        "colab": {
          "base_uri": "https://localhost:8080/"
        },
        "id": "UbaizGzDNAk1",
        "outputId": "87b9a0de-5ec8-407b-f545-3e41558e049b"
      },
      "execution_count": 22,
      "outputs": [
        {
          "output_type": "execute_result",
          "data": {
            "text/plain": [
              "((88279, 32), (88279,))"
            ]
          },
          "metadata": {},
          "execution_count": 22
        }
      ]
    },
    {
      "cell_type": "code",
      "source": [
        "from sklearn.model_selection import train_test_split\n",
        "x_train, x_test, y_train, y_test = train_test_split(x,y)\n"
      ],
      "metadata": {
        "id": "OkmpPRbFNOCA"
      },
      "execution_count": 23,
      "outputs": []
    },
    {
      "cell_type": "code",
      "source": [
        "num_chars = len(char_to_index.keys()) + 1"
      ],
      "metadata": {
        "id": "YMhts--GOfLO"
      },
      "execution_count": 24,
      "outputs": []
    },
    {
      "cell_type": "code",
      "source": [
        "from tensorflow.keras.models import Sequential\n",
        "from tensorflow.keras.layers import Embedding, Conv1D, MaxPool1D, LSTM, Bidirectional, Dense\n",
        "\n",
        "model = Sequential(\n",
        "    [\n",
        "        Embedding(num_chars, 8, input_length = max_len-1),\n",
        "        Conv1D(64,5, strides=1, activation='tanh', padding = 'causal'), # filter =64, kernel_size = 5, strides = =1\n",
        "        MaxPool1D(2),\n",
        "        LSTM(32),\n",
        "        Dense(num_chars, activation = 'softmax')\n",
        "     ]\n",
        ")\n",
        "\n",
        "model.compile(\n",
        "    loss = 'sparse_categorical_crossentropy',\n",
        "    optimizer = 'adam',\n",
        "    metrics = ['accuracy']\n",
        ")\n",
        "\n",
        "model.summary()"
      ],
      "metadata": {
        "colab": {
          "base_uri": "https://localhost:8080/"
        },
        "id": "Q3a9Da2POwZp",
        "outputId": "e024f7aa-2b18-4eb3-de2a-befb2b57aef0"
      },
      "execution_count": 25,
      "outputs": [
        {
          "output_type": "stream",
          "name": "stdout",
          "text": [
            "Model: \"sequential\"\n",
            "_________________________________________________________________\n",
            " Layer (type)                Output Shape              Param #   \n",
            "=================================================================\n",
            " embedding (Embedding)       (None, 32, 8)             232       \n",
            "                                                                 \n",
            " conv1d (Conv1D)             (None, 32, 64)            2624      \n",
            "                                                                 \n",
            " max_pooling1d (MaxPooling1D  (None, 16, 64)           0         \n",
            " )                                                               \n",
            "                                                                 \n",
            " lstm (LSTM)                 (None, 32)                12416     \n",
            "                                                                 \n",
            " dense (Dense)               (None, 29)                957       \n",
            "                                                                 \n",
            "=================================================================\n",
            "Total params: 16,229\n",
            "Trainable params: 16,229\n",
            "Non-trainable params: 0\n",
            "_________________________________________________________________\n"
          ]
        }
      ]
    },
    {
      "cell_type": "code",
      "source": [
        "h = model.fit(\n",
        "    x_train,y_train\n",
        "    , validation_data = (x_test, y_test),\n",
        "    epochs = 50, verbose = 2,\n",
        "    callbacks = [\n",
        "        tf.keras.callbacks.EarlyStopping(monitor='val_accuracy', patience=3)\n",
        "    ]\n",
        ")"
      ],
      "metadata": {
        "colab": {
          "base_uri": "https://localhost:8080/"
        },
        "id": "h_4tKHs_OZCy",
        "outputId": "f84b96c0-3ae6-48fe-86b8-b7a66a85be1f"
      },
      "execution_count": 26,
      "outputs": [
        {
          "output_type": "stream",
          "name": "stdout",
          "text": [
            "Epoch 1/50\n",
            "2070/2070 - 21s - loss: 2.7297 - accuracy: 0.1894 - val_loss: 2.5847 - val_accuracy: 0.2348 - 21s/epoch - 10ms/step\n",
            "Epoch 2/50\n",
            "2070/2070 - 11s - loss: 2.5265 - accuracy: 0.2391 - val_loss: 2.4978 - val_accuracy: 0.2463 - 11s/epoch - 5ms/step\n",
            "Epoch 3/50\n",
            "2070/2070 - 10s - loss: 2.4657 - accuracy: 0.2542 - val_loss: 2.4527 - val_accuracy: 0.2623 - 10s/epoch - 5ms/step\n",
            "Epoch 4/50\n",
            "2070/2070 - 10s - loss: 2.4190 - accuracy: 0.2709 - val_loss: 2.4173 - val_accuracy: 0.2717 - 10s/epoch - 5ms/step\n",
            "Epoch 5/50\n",
            "2070/2070 - 11s - loss: 2.3782 - accuracy: 0.2793 - val_loss: 2.3855 - val_accuracy: 0.2808 - 11s/epoch - 5ms/step\n",
            "Epoch 6/50\n",
            "2070/2070 - 10s - loss: 2.3461 - accuracy: 0.2879 - val_loss: 2.3605 - val_accuracy: 0.2847 - 10s/epoch - 5ms/step\n",
            "Epoch 7/50\n",
            "2070/2070 - 10s - loss: 2.3179 - accuracy: 0.2949 - val_loss: 2.3444 - val_accuracy: 0.2886 - 10s/epoch - 5ms/step\n",
            "Epoch 8/50\n",
            "2070/2070 - 11s - loss: 2.2936 - accuracy: 0.3036 - val_loss: 2.3267 - val_accuracy: 0.2967 - 11s/epoch - 6ms/step\n",
            "Epoch 9/50\n",
            "2070/2070 - 11s - loss: 2.2725 - accuracy: 0.3108 - val_loss: 2.3097 - val_accuracy: 0.3018 - 11s/epoch - 5ms/step\n",
            "Epoch 10/50\n",
            "2070/2070 - 10s - loss: 2.2530 - accuracy: 0.3158 - val_loss: 2.3008 - val_accuracy: 0.3052 - 10s/epoch - 5ms/step\n",
            "Epoch 11/50\n",
            "2070/2070 - 10s - loss: 2.2349 - accuracy: 0.3227 - val_loss: 2.2969 - val_accuracy: 0.3055 - 10s/epoch - 5ms/step\n",
            "Epoch 12/50\n",
            "2070/2070 - 10s - loss: 2.2182 - accuracy: 0.3288 - val_loss: 2.2829 - val_accuracy: 0.3115 - 10s/epoch - 5ms/step\n",
            "Epoch 13/50\n",
            "2070/2070 - 11s - loss: 2.2014 - accuracy: 0.3347 - val_loss: 2.2708 - val_accuracy: 0.3156 - 11s/epoch - 5ms/step\n",
            "Epoch 14/50\n",
            "2070/2070 - 10s - loss: 2.1880 - accuracy: 0.3385 - val_loss: 2.2644 - val_accuracy: 0.3219 - 10s/epoch - 5ms/step\n",
            "Epoch 15/50\n",
            "2070/2070 - 11s - loss: 2.1727 - accuracy: 0.3442 - val_loss: 2.2507 - val_accuracy: 0.3248 - 11s/epoch - 5ms/step\n",
            "Epoch 16/50\n",
            "2070/2070 - 10s - loss: 2.1598 - accuracy: 0.3477 - val_loss: 2.2511 - val_accuracy: 0.3265 - 10s/epoch - 5ms/step\n",
            "Epoch 17/50\n",
            "2070/2070 - 11s - loss: 2.1472 - accuracy: 0.3516 - val_loss: 2.2472 - val_accuracy: 0.3318 - 11s/epoch - 5ms/step\n",
            "Epoch 18/50\n",
            "2070/2070 - 10s - loss: 2.1366 - accuracy: 0.3566 - val_loss: 2.2408 - val_accuracy: 0.3355 - 10s/epoch - 5ms/step\n",
            "Epoch 19/50\n",
            "2070/2070 - 10s - loss: 2.1249 - accuracy: 0.3597 - val_loss: 2.2347 - val_accuracy: 0.3333 - 10s/epoch - 5ms/step\n",
            "Epoch 20/50\n",
            "2070/2070 - 10s - loss: 2.1147 - accuracy: 0.3626 - val_loss: 2.2321 - val_accuracy: 0.3373 - 10s/epoch - 5ms/step\n",
            "Epoch 21/50\n",
            "2070/2070 - 11s - loss: 2.1049 - accuracy: 0.3655 - val_loss: 2.2275 - val_accuracy: 0.3412 - 11s/epoch - 5ms/step\n",
            "Epoch 22/50\n",
            "2070/2070 - 11s - loss: 2.0945 - accuracy: 0.3686 - val_loss: 2.2276 - val_accuracy: 0.3376 - 11s/epoch - 5ms/step\n",
            "Epoch 23/50\n",
            "2070/2070 - 10s - loss: 2.0868 - accuracy: 0.3717 - val_loss: 2.2254 - val_accuracy: 0.3399 - 10s/epoch - 5ms/step\n",
            "Epoch 24/50\n",
            "2070/2070 - 10s - loss: 2.0793 - accuracy: 0.3745 - val_loss: 2.2253 - val_accuracy: 0.3402 - 10s/epoch - 5ms/step\n"
          ]
        }
      ]
    },
    {
      "cell_type": "code",
      "source": [
        "def generate_names(seed) :\n",
        "  for i in range(0, 40):\n",
        "    seq = name_to_seq(seed)\n",
        "    padded = tf.keras.preprocessing.sequence.pad_sequences([seq], padding = 'pre', maxlen = max_len-1, truncating = 'pre')\n",
        "    pred = model.predict(padded)[0]\n",
        "    pred_char = index_to_char[tf.argmax(pred).numpy()]\n",
        "    seed+=pred_char\n",
        "\n",
        "    if pred_char == '\\t' :\n",
        "      break\n",
        "\n",
        "  print(seed)"
      ],
      "metadata": {
        "id": "m4uNzg1dUxL1"
      },
      "execution_count": 36,
      "outputs": []
    },
    {
      "cell_type": "code",
      "source": [
        "generate_names('x')"
      ],
      "metadata": {
        "colab": {
          "base_uri": "https://localhost:8080/"
        },
        "id": "sK8DcOHuVhFl",
        "outputId": "e002c68a-e6b9-4a93-90e0-619b6b4ee953"
      },
      "execution_count": 42,
      "outputs": [
        {
          "output_type": "stream",
          "name": "stdout",
          "text": [
            "1/1 [==============================] - 0s 20ms/step\n",
            "1/1 [==============================] - 0s 16ms/step\n",
            "1/1 [==============================] - 0s 14ms/step\n",
            "1/1 [==============================] - 0s 17ms/step\n",
            "1/1 [==============================] - 0s 16ms/step\n",
            "1/1 [==============================] - 0s 16ms/step\n",
            "1/1 [==============================] - 0s 16ms/step\n",
            "1/1 [==============================] - 0s 15ms/step\n",
            "1/1 [==============================] - 0s 14ms/step\n",
            "1/1 [==============================] - 0s 17ms/step\n",
            "1/1 [==============================] - 0s 17ms/step\n",
            "xena sander\t\n"
          ]
        }
      ]
    }
  ]
}